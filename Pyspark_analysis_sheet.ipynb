{
 "cells": [
  {
   "cell_type": "code",
   "execution_count": 2,
   "metadata": {},
   "outputs": [],
   "source": [
    "from pyspark.sql import SQLContext\n",
    "from pyspark import SparkContext\n",
    "from pyspark.sql.functions import *\n",
    "from pyspark.sql.window import Window \n",
    "from pyspark.sql.functions import unix_timestamp,from_unixtime,trim,to_date,translate \n",
    "from pyspark.mllib.stat import Statistics \n",
    "import numpy as np \n",
    "import pandas as pd \n",
    "import matplotlib.pyplot as plt\n",
    "import seaborn as sns"
   ]
  },
  {
   "cell_type": "code",
   "execution_count": null,
   "metadata": {},
   "outputs": [],
   "source": []
  },
  {
   "cell_type": "code",
   "execution_count": 3,
   "metadata": {},
   "outputs": [],
   "source": [
    "sc = SparkContext('local','Spark SQL')\n",
    "Sqlcontext = SQLContext(sc)"
   ]
  },
  {
   "cell_type": "code",
   "execution_count": 4,
   "metadata": {},
   "outputs": [],
   "source": [
    "department = Sqlcontext.read.parquet(\"hdfs://nameservice1/user/anabig114217/parquetfinalproject/DEPARTMENT/2790c4c4-6b48-4314-912d-20ad05b2a7a6.parquet\")"
   ]
  },
  {
   "cell_type": "code",
   "execution_count": 5,
   "metadata": {},
   "outputs": [],
   "source": [
    "dept_employee = Sqlcontext.read.parquet(\"hdfs://nameservice1/user/anabig114217/parquetfinalproject/DEPT_EMPLOYEE/6062f2bb-5746-4cff-9506-c1423e046206.parquet\")"
   ]
  },
  {
   "cell_type": "code",
   "execution_count": 6,
   "metadata": {},
   "outputs": [],
   "source": [
    "dept_manager = Sqlcontext.read.parquet(\"hdfs://nameservice1/user/anabig114217/parquetfinalproject/DEPT_MANAGER/9d69689d-1693-4a2c-997b-31d94942736e.parquet\")"
   ]
  },
  {
   "cell_type": "code",
   "execution_count": 7,
   "metadata": {},
   "outputs": [],
   "source": [
    "employees = Sqlcontext.read.parquet(\"hdfs://nameservice1/user/anabig114217/parquetfinalproject/EMPLOYEES/10670362-07fc-4469-84f0-ab82dac80c8e.parquet\")"
   ]
  },
  {
   "cell_type": "code",
   "execution_count": 8,
   "metadata": {},
   "outputs": [],
   "source": [
    "salaries = Sqlcontext.read.parquet(\"hdfs://nameservice1/user/anabig114217/parquetfinalproject/SALARIES/763b73b6-8810-4750-9980-af5108f60190.parquet\")"
   ]
  },
  {
   "cell_type": "code",
   "execution_count": 9,
   "metadata": {},
   "outputs": [],
   "source": [
    "titles = Sqlcontext.read.parquet(\"hdfs://nameservice1/user/anabig114217/parquetfinalproject/TITLES/adee0c6d-283f-4521-a9d1-1f0e14eb4220.parquet\");"
   ]
  },
  {
   "cell_type": "markdown",
   "metadata": {},
   "source": [
    "#### EDA"
   ]
  },
  {
   "cell_type": "code",
   "execution_count": 10,
   "metadata": {},
   "outputs": [
    {
     "name": "stdout",
     "output_type": "stream",
     "text": [
      "+------+------+\n",
      "|emp_no|salary|\n",
      "+------+------+\n",
      "| 10001| 60117|\n",
      "| 10002| 65828|\n",
      "+------+------+\n",
      "only showing top 2 rows\n",
      "\n"
     ]
    }
   ],
   "source": [
    "salaries.show(2)"
   ]
  },
  {
   "cell_type": "code",
   "execution_count": 11,
   "metadata": {},
   "outputs": [
    {
     "name": "stdout",
     "output_type": "stream",
     "text": [
      "<class 'pandas.core.frame.DataFrame'>\n",
      "RangeIndex: 300024 entries, 0 to 300023\n",
      "Data columns (total 2 columns):\n",
      " #   Column  Non-Null Count   Dtype\n",
      "---  ------  --------------   -----\n",
      " 0   emp_no  300024 non-null  int32\n",
      " 1   salary  300024 non-null  int32\n",
      "dtypes: int32(2)\n",
      "memory usage: 2.3 MB\n"
     ]
    }
   ],
   "source": [
    "salaries.toPandas().info()"
   ]
  },
  {
   "cell_type": "code",
   "execution_count": 12,
   "metadata": {
    "scrolled": true
   },
   "outputs": [
    {
     "name": "stdout",
     "output_type": "stream",
     "text": [
      "+------+-------+\n",
      "|emp_no|dept_no|\n",
      "+------+-------+\n",
      "| 10001|   d005|\n",
      "| 10002|   d007|\n",
      "| 10003|   d004|\n",
      "+------+-------+\n",
      "only showing top 3 rows\n",
      "\n"
     ]
    }
   ],
   "source": [
    "dept_employee.show(3)"
   ]
  },
  {
   "cell_type": "code",
   "execution_count": 13,
   "metadata": {},
   "outputs": [
    {
     "name": "stdout",
     "output_type": "stream",
     "text": [
      "<class 'pandas.core.frame.DataFrame'>\n",
      "RangeIndex: 300024 entries, 0 to 300023\n",
      "Data columns (total 2 columns):\n",
      " #   Column   Non-Null Count   Dtype \n",
      "---  ------   --------------   ----- \n",
      " 0   emp_no   300024 non-null  int32 \n",
      " 1   dept_no  300024 non-null  object\n",
      "dtypes: int32(1), object(1)\n",
      "memory usage: 3.4+ MB\n"
     ]
    }
   ],
   "source": [
    "# Info About the Df\n",
    "dept_employee.toPandas().info()"
   ]
  },
  {
   "cell_type": "code",
   "execution_count": 14,
   "metadata": {},
   "outputs": [
    {
     "name": "stdout",
     "output_type": "stream",
     "text": [
      "+-------+------+\n",
      "|dept_no|emp_no|\n",
      "+-------+------+\n",
      "|   d001|110022|\n",
      "|   d001|110039|\n",
      "+-------+------+\n",
      "only showing top 2 rows\n",
      "\n"
     ]
    }
   ],
   "source": [
    "dept_manager.show(2)"
   ]
  },
  {
   "cell_type": "code",
   "execution_count": 15,
   "metadata": {
    "scrolled": false
   },
   "outputs": [
    {
     "name": "stdout",
     "output_type": "stream",
     "text": [
      "<class 'pandas.core.frame.DataFrame'>\n",
      "RangeIndex: 24 entries, 0 to 23\n",
      "Data columns (total 2 columns):\n",
      " #   Column   Non-Null Count  Dtype \n",
      "---  ------   --------------  ----- \n",
      " 0   dept_no  24 non-null     object\n",
      " 1   emp_no   24 non-null     int32 \n",
      "dtypes: int32(1), object(1)\n",
      "memory usage: 416.0+ bytes\n"
     ]
    }
   ],
   "source": [
    "# Info About the Df\n",
    "dept_manager.toPandas().info()"
   ]
  },
  {
   "cell_type": "code",
   "execution_count": 16,
   "metadata": {
    "scrolled": true
   },
   "outputs": [
    {
     "name": "stdout",
     "output_type": "stream",
     "text": [
      "<class 'pandas.core.frame.DataFrame'>\n",
      "RangeIndex: 300024 entries, 0 to 300023\n",
      "Data columns (total 11 columns):\n",
      " #   Column                   Non-Null Count   Dtype \n",
      "---  ------                   --------------   ----- \n",
      " 0   emp_no                   300024 non-null  int32 \n",
      " 1   emp_title_id             300024 non-null  object\n",
      " 2   birth_date               300024 non-null  object\n",
      " 3   first_name               300024 non-null  object\n",
      " 4   last_name                300024 non-null  object\n",
      " 5   sex                      300024 non-null  object\n",
      " 6   hire_date                300024 non-null  object\n",
      " 7   no_of_projects           300024 non-null  int32 \n",
      " 8   Last_performance_rating  300024 non-null  object\n",
      " 9   left_                    300024 non-null  object\n",
      " 10  last_date                300024 non-null  object\n",
      "dtypes: int32(2), object(9)\n",
      "memory usage: 22.9+ MB\n"
     ]
    }
   ],
   "source": [
    "# Info About the Df\n",
    "employees.toPandas().info()"
   ]
  },
  {
   "cell_type": "code",
   "execution_count": 17,
   "metadata": {},
   "outputs": [
    {
     "name": "stdout",
     "output_type": "stream",
     "text": [
      "+--------+----------+\n",
      "|title_id|     title|\n",
      "+--------+----------+\n",
      "|   e0001|Assistant |\n",
      "|   e0002|  Engineer|\n",
      "+--------+----------+\n",
      "only showing top 2 rows\n",
      "\n"
     ]
    }
   ],
   "source": [
    "titles.show(2)"
   ]
  },
  {
   "cell_type": "code",
   "execution_count": 18,
   "metadata": {},
   "outputs": [
    {
     "name": "stdout",
     "output_type": "stream",
     "text": [
      "<class 'pandas.core.frame.DataFrame'>\n",
      "RangeIndex: 7 entries, 0 to 6\n",
      "Data columns (total 2 columns):\n",
      " #   Column    Non-Null Count  Dtype \n",
      "---  ------    --------------  ----- \n",
      " 0   title_id  7 non-null      object\n",
      " 1   title     7 non-null      object\n",
      "dtypes: object(2)\n",
      "memory usage: 240.0+ bytes\n"
     ]
    }
   ],
   "source": [
    "# Info About the Df\n",
    "titles.toPandas().info()"
   ]
  },
  {
   "cell_type": "markdown",
   "metadata": {},
   "source": [
    "#### Data Prepairation"
   ]
  },
  {
   "cell_type": "code",
   "execution_count": null,
   "metadata": {},
   "outputs": [],
   "source": []
  },
  {
   "cell_type": "code",
   "execution_count": 19,
   "metadata": {},
   "outputs": [],
   "source": [
    "department = department.withColumnRenamed(\"dept_no\",\"dp_dept_no\")\n",
    "dept_employee = dept_employee.withColumnRenamed(\"dept_no\",\"de_dept_no\")\n",
    "dept_employee = dept_employee.withColumnRenamed(\"emp_no\",\"de_emp_no\")\n",
    "dept_manager = dept_manager.withColumnRenamed(\"emp_no\",\"dm_emp_no\")\n",
    "dept_manager = dept_manager.withColumnRenamed(\"dept_no\",\"dm_dept_no\")\n",
    "salaries = salaries.withColumnRenamed(\"emp_no\",'sl_emp_no')\n",
    "employees = employees.withColumnRenamed(\"emp_no\",\"emp_no_s\")"
   ]
  },
  {
   "cell_type": "code",
   "execution_count": 20,
   "metadata": {},
   "outputs": [],
   "source": [
    "employees = employees.withColumn('birth_date',to_date('birth_date','M/d/yyyy')).withColumn('last_date',to_date('last_date','M/d/yyyy')).withColumn('hire_date',to_date('hire_date','M/d/yyyy'))"
   ]
  },
  {
   "cell_type": "code",
   "execution_count": null,
   "metadata": {},
   "outputs": [],
   "source": []
  },
  {
   "cell_type": "code",
   "execution_count": 21,
   "metadata": {},
   "outputs": [],
   "source": [
    "# Merge data frame\n",
    "emp_df = employees.join(titles,employees.emp_title_id == titles.title_id,\"rightouter\").join(dept_employee,employees.emp_no_s == dept_employee.de_emp_no,\"rightouter\").join(salaries,employees.emp_no_s == salaries.sl_emp_no,\"rightouter\").join(department,dept_employee.de_dept_no==department.dp_dept_no,\"rightouter\")"
   ]
  },
  {
   "cell_type": "markdown",
   "metadata": {},
   "source": [
    "##### 1. A list showing employee number, last name, first name, sex, and salary for each employee"
   ]
  },
  {
   "cell_type": "code",
   "execution_count": 22,
   "metadata": {},
   "outputs": [
    {
     "name": "stdout",
     "output_type": "stream",
     "text": [
      "+--------+----------+----------+---+------+\n",
      "|emp_no_s| last_name|first_name|sex|salary|\n",
      "+--------+----------+----------+---+------+\n",
      "|   10001|   Facello|    Georgi|  M| 60117|\n",
      "|   10006|   Preusig|    Anneke|  F| 40000|\n",
      "|   10008|  Kalloufi|    Saniya|  M| 46671|\n",
      "|   10012| Bridgland|  Patricio|  M| 40000|\n",
      "|   10014|     Genin|     Berni|  M| 46168|\n",
      "|   10021|      Erde|     Ramzi|  M| 55025|\n",
      "|   10022|    Famili|    Shahaf|  M| 40000|\n",
      "|   10023|Montemayor|     Bojan|  F| 47883|\n",
      "|   10025|    Heyers| Prasadram|  M| 40000|\n",
      "|   10027|   Reistad|    Divier|  F| 40000|\n",
      "|   10028|  Tempesti|  Domenick|  M| 48859|\n",
      "|   10031|    Joslin|   Karsten|  M| 40000|\n",
      "|   10037|  Makrucki|   Pradeep|  M| 40000|\n",
      "|   10040|   Meriste|     Weiyi|  F| 52153|\n",
      "|   10043|   Tzvieli|    Yishay|  M| 49324|\n",
      "|   10048|  Syrotiuk|   Florian|  M| 40000|\n",
      "|   10056|   Bernini|   Brendon|  F| 48857|\n",
      "|   10057|  Callaway|      Ebbe|  F| 49616|\n",
      "|   10062|      Peyn|    Anoosh|  M| 55685|\n",
      "|   10065|     Awdeh|    Satosi|  M| 40000|\n",
      "+--------+----------+----------+---+------+\n",
      "only showing top 20 rows\n",
      "\n"
     ]
    }
   ],
   "source": [
    "emp_df.select(\"emp_no_s\",\"last_name\",\"first_name\",\"sex\",\"salary\").show()"
   ]
  },
  {
   "cell_type": "markdown",
   "metadata": {},
   "source": [
    "##### 2. A list showing first name, last  name, and hire date for employees who were hired in 1986.\n"
   ]
  },
  {
   "cell_type": "code",
   "execution_count": 23,
   "metadata": {},
   "outputs": [
    {
     "name": "stdout",
     "output_type": "stream",
     "text": [
      "+--------+------------+----------+----------+\n",
      "|emp_no_s|   last_name|first_name| hire_date|\n",
      "+--------+------------+----------+----------+\n",
      "|   10001|     Facello|    Georgi|1986-06-26|\n",
      "|   10003|     Bamford|     Parto|1986-08-28|\n",
      "|   10004|     Koblick| Chirstian|1986-12-01|\n",
      "|   10053|    Zschoche|    Sanjiv|1986-02-04|\n",
      "|   10066|    Schusler|      Kwee|1986-02-26|\n",
      "|   10079|        Gils|   Kshitij|1986-03-27|\n",
      "|   10081|       Rosen|  Zhongwei|1986-10-30|\n",
      "|   10087|     Eugenio|   Xinglin|1986-09-08|\n",
      "|   10089|Flasterstein| Sudharsan|1986-08-12|\n",
      "|   10090|     Hofting|    Kendra|1986-03-14|\n",
      "|   10095|      Morton|    Hilari|1986-07-15|\n",
      "|   10103|       Birch|     Akemi|1986-12-02|\n",
      "|   10108|      Giveon|    Lunjin|1986-10-02|\n",
      "|   10110|      Ullian|    Xuejia|1986-08-22|\n",
      "|   10115|    Rissland|   Chikara|1986-01-23|\n",
      "|   10119|    Peltason|  Domenick|1986-03-14|\n",
      "|   10136|    Pintelas|    Zissis|1986-02-11|\n",
      "|   10138|   Shimshoni|     Perry|1986-09-18|\n",
      "|   10147| Encarnacion|  Kazuhito|1986-08-21|\n",
      "|   10149|       Perry|   Xiadong|1986-11-05|\n",
      "+--------+------------+----------+----------+\n",
      "only showing top 20 rows\n",
      "\n"
     ]
    }
   ],
   "source": [
    "emp_df.where(year('hire_date') == 1986).select(\"emp_no_s\",\"last_name\",\"first_name\",\"hire_date\").show()"
   ]
  },
  {
   "cell_type": "code",
   "execution_count": 24,
   "metadata": {},
   "outputs": [
    {
     "data": {
      "text/plain": [
       "['emp_no_s',\n",
       " 'emp_title_id',\n",
       " 'birth_date',\n",
       " 'first_name',\n",
       " 'last_name',\n",
       " 'sex',\n",
       " 'hire_date',\n",
       " 'no_of_projects',\n",
       " 'Last_performance_rating',\n",
       " 'left_',\n",
       " 'last_date',\n",
       " 'title_id',\n",
       " 'title',\n",
       " 'de_emp_no',\n",
       " 'de_dept_no',\n",
       " 'sl_emp_no',\n",
       " 'salary',\n",
       " 'dp_dept_no',\n",
       " 'dept_name']"
      ]
     },
     "execution_count": 24,
     "metadata": {},
     "output_type": "execute_result"
    }
   ],
   "source": [
    "emp_df.columns"
   ]
  },
  {
   "cell_type": "markdown",
   "metadata": {},
   "source": [
    "##### 2. A list showing the manager of each department with the following information: department number, department name, the manager's employee number, last name, first name"
   ]
  },
  {
   "cell_type": "code",
   "execution_count": 25,
   "metadata": {},
   "outputs": [
    {
     "name": "stdout",
     "output_type": "stream",
     "text": [
      "+----------+------------------+--------+------------+-----------+\n",
      "|dm_dept_no|         dept_name|emp_no_s|   last_name| first_name|\n",
      "+----------+------------------+--------+------------+-----------+\n",
      "|      d001|         Marketing|  110022|  Markovitch|  Margareta|\n",
      "|      d001|         Marketing|  110039|    Minakawa|   Vishwani|\n",
      "|      d002|           Finance|  110085|       Alpin|       Ebru|\n",
      "|      d002|           Finance|  110114|  Legleitner|      Isamu|\n",
      "|      d003|   Human Resources|  110183|Ossenbruggen|    Shirish|\n",
      "|      d003|   Human Resources|  110228|     Sigstam|    Karsten|\n",
      "|      d004|        Production|  110303|     Wegerle|  Krassimir|\n",
      "|      d004|        Production|  110344|       Cools|     Rosine|\n",
      "|      d004|        Production|  110386|      Kieras|       Shem|\n",
      "|      d004|        Production|  110420|    Ghazalie|      Oscar|\n",
      "|      d005|       development|  110511|    Hagimont|   DeForest|\n",
      "|      d005|       development|  110567|    DasSarma|       Leon|\n",
      "|      d006|Quality Management|  110725|     Onuegbe|  Peternela|\n",
      "|      d006|Quality Management|  110765|     Hofmeyr|     Rutger|\n",
      "|      d006|Quality Management|  110800|     Quadeer|     Sanjoy|\n",
      "|      d006|Quality Management|  110854|       Pesch|       Dung|\n",
      "|      d007|             Sales|  111035|   Kaelbling|Przemyslawa|\n",
      "|      d007|             Sales|  111133|       Zhang|      Hauke|\n",
      "|      d008|          Research|  111400|     Staelin|       Arie|\n",
      "|      d008|          Research|  111534|      Kambil|     Hilary|\n",
      "+----------+------------------+--------+------------+-----------+\n",
      "only showing top 20 rows\n",
      "\n"
     ]
    }
   ],
   "source": [
    "department.join(dept_manager,department.dp_dept_no == dept_manager.dm_dept_no,\"rightouter\").join(employees,dept_manager.dm_emp_no == employees.emp_no_s,\"inner\").select(\"dm_dept_no\",\"dept_name\",\"emp_no_s\",\"last_name\",\"first_name\").show()"
   ]
  },
  {
   "cell_type": "markdown",
   "metadata": {},
   "source": [
    "##### 3. A list showing the department of each employee with the following information: employee number, last name, first name, and department name."
   ]
  },
  {
   "cell_type": "code",
   "execution_count": 26,
   "metadata": {},
   "outputs": [
    {
     "name": "stdout",
     "output_type": "stream",
     "text": [
      "+--------+-----------+----------+------------------+\n",
      "|emp_no_s|  last_name|first_name|         dept_name|\n",
      "+--------+-----------+----------+------------------+\n",
      "|   10001|    Facello|    Georgi|       development|\n",
      "|   10002|     Simmel|   Bezalel|             Sales|\n",
      "|   10003|    Bamford|     Parto|        Production|\n",
      "|   10004|    Koblick| Chirstian|        Production|\n",
      "|   10005|   Maliniak|   Kyoichi|   Human Resources|\n",
      "|   10006|    Preusig|    Anneke|       development|\n",
      "|   10007|  Zielinski|   Tzvetan|          Research|\n",
      "|   10008|   Kalloufi|    Saniya|       development|\n",
      "|   10009|       Peac|    Sumant|Quality Management|\n",
      "|   10010|   Piveteau| Duangkaew|        Production|\n",
      "|   10011|      Sluis|      Mary|  Customer Service|\n",
      "|   10012|  Bridgland|  Patricio|       development|\n",
      "|   10013|     Terkki| Eberhardt|   Human Resources|\n",
      "|   10014|      Genin|     Berni|       development|\n",
      "|   10015|  Nooteboom|  Guoxiang|          Research|\n",
      "|   10016|Cappelletti|  Kazuhito|             Sales|\n",
      "|   10017|  Bouloucos| Cristinel|         Marketing|\n",
      "|   10018|       Peha|  Kazuhide|        Production|\n",
      "|   10019|    Haddadi|   Lillian|          Research|\n",
      "|   10020|    Warwick|    Mayuko|        Production|\n",
      "+--------+-----------+----------+------------------+\n",
      "only showing top 20 rows\n",
      "\n"
     ]
    }
   ],
   "source": [
    "department.join(dept_employee,department.dp_dept_no == dept_employee.de_dept_no,\"rightouter\").join(employees,dept_employee.de_emp_no == employees.emp_no_s,\"inner\").select(\"emp_no_s\",\"last_name\",\"first_name\",\"dept_name\").show()"
   ]
  },
  {
   "cell_type": "markdown",
   "metadata": {},
   "source": [
    "##### 4. A list showing first name, last name, and sex for employees whose first name is \"Hercules\" and last names begin with \"B.“"
   ]
  },
  {
   "cell_type": "code",
   "execution_count": 27,
   "metadata": {},
   "outputs": [
    {
     "name": "stdout",
     "output_type": "stream",
     "text": [
      "+--------+------------+----------+----------+-------------+---+----------+--------------+-----------------------+-----+----------+\n",
      "|emp_no_s|emp_title_id|birth_date|first_name|    last_name|sex| hire_date|no_of_projects|Last_performance_rating|left_| last_date|\n",
      "+--------+------------+----------+----------+-------------+---+----------+--------------+-----------------------+-----+----------+\n",
      "|   10282|       e0002|1953-11-27|  Hercules|   Benzmuller|  M|1986-06-04|             8|                      A|    0|      null|\n",
      "|   11337|       s0001|1964-07-31|  Hercules|      Brendel|  F|1994-11-20|             6|                      A|    0|      null|\n",
      "|   20780|       s0001|1954-11-17|  Hercules|   Baranowski|  M|1991-03-09|             6|                      A|    1|2000-11-26|\n",
      "|   21870|       e0003|1960-07-06|  Hercules|     Barreiro|  M|1988-11-18|            10|                      A|    0|      null|\n",
      "|   38161|       s0001|1964-10-12|  Hercules|         Baer|  M|1988-02-17|             6|                      A|    0|      null|\n",
      "|   89382|       s0001|1964-09-03|  Hercules|Bernardinello|  F|1987-02-13|             5|                      C|    0|      null|\n",
      "|   89844|       e0002|1954-03-01|  Hercules|      Basagni|  M|1991-10-25|             1|                      A|    0|      null|\n",
      "|   90712|       e0002|1954-08-28|  Hercules|        Biran|  F|1994-09-07|            10|                      A|    0|      null|\n",
      "|  210097|       e0003|1954-08-27|  Hercules|    Bernatsky|  M|1985-11-27|             8|                      S|    0|      null|\n",
      "|  213553|       e0003|1961-08-14|  Hercules|         Bail|  F|1987-06-16|             7|                      B|    1|2000-09-28|\n",
      "|  236650|       e0002|1964-12-24|  Hercules|        Birge|  F|1994-04-13|             1|                      A|    0|      null|\n",
      "|  241391|       e0003|1962-02-27|  Hercules|      Bisiani|  F|1985-07-19|             8|                      S|    1|1988-02-11|\n",
      "|  250175|       s0001|1959-02-13|  Hercules|       Bodoff|  M|1985-09-14|             4|                      B|    0|      null|\n",
      "|  276181|       s0001|1957-10-17|  Hercules|        Biron|  F|1994-12-07|             2|                      B|    0|      null|\n",
      "|  279195|       s0002|1964-08-14|  Hercules|      Buchter|  M|1991-04-16|             9|                      C|    0|      null|\n",
      "|  294352|       s0001|1952-07-16|  Hercules|         Bain|  F|1987-10-17|             5|                      B|    0|      null|\n",
      "|  435221|       e0002|1957-10-17|  Hercules|         Bahr|  M|1995-04-06|             1|                      B|    0|      null|\n",
      "|  438081|       e0002|1960-10-15|  Hercules|         Baak|  M|1991-07-31|             2|                      C|    0|      null|\n",
      "|  461517|       s0001|1963-07-20|  Hercules|     Benantar|  F|1989-06-08|             1|                      B|    0|      null|\n",
      "|  482148|       e0003|1954-04-05|  Hercules|      Berstel|  F|1989-11-02|             4|                      A|    0|      null|\n",
      "+--------+------------+----------+----------+-------------+---+----------+--------------+-----------------------+-----+----------+\n",
      "\n"
     ]
    }
   ],
   "source": [
    "employees.where((employees.first_name == \"Hercules\") & (employees.last_name.startswith(\"B\"))).show()"
   ]
  },
  {
   "cell_type": "markdown",
   "metadata": {},
   "source": [
    "##### 5. A list showing all employees in the Sales department, including their employee number, last name, first name, anddepartment name.\n"
   ]
  },
  {
   "cell_type": "code",
   "execution_count": 28,
   "metadata": {},
   "outputs": [
    {
     "name": "stdout",
     "output_type": "stream",
     "text": [
      "+--------+------------+----------+---------+\n",
      "|emp_no_s|   last_name|first_name|dept_name|\n",
      "+--------+------------+----------+---------+\n",
      "|   10002|      Simmel|   Bezalel|    Sales|\n",
      "|   10016| Cappelletti|  Kazuhito|    Sales|\n",
      "|   10034|        Swan|     Bader|    Sales|\n",
      "|   10041|      Lenart|       Uri|    Sales|\n",
      "|   10053|    Zschoche|    Sanjiv|    Sales|\n",
      "|   10060| Billingsley|  Breannda|    Sales|\n",
      "|   10061|      Herber|       Tse|    Sales|\n",
      "|   10068|     Brattka|  Charlene|    Sales|\n",
      "|   10087|     Eugenio|   Xinglin|    Sales|\n",
      "|   10088|    Syrzycki|  Jungsoon|    Sales|\n",
      "|   10089|Flasterstein| Sudharsan|    Sales|\n",
      "|   10093|     Desikan|   Sailaja|    Sales|\n",
      "|   10095|      Morton|    Hilari|    Sales|\n",
      "|   10099|     Sullins|    Valter|    Sales|\n",
      "|   10101|      Heyers|     Perla|    Sales|\n",
      "|   10107|        Baca|      Dung|    Sales|\n",
      "|   10125|     Hiltgen|     Syozo|    Sales|\n",
      "|   10136|    Pintelas|    Zissis|    Sales|\n",
      "|   10148|       Azumi|    Douadi|    Sales|\n",
      "|   10149|       Perry|   Xiadong|    Sales|\n",
      "+--------+------------+----------+---------+\n",
      "only showing top 20 rows\n",
      "\n"
     ]
    }
   ],
   "source": [
    "emp_df.where(emp_df.dept_name == 'Sales').select('emp_no_s','last_name','first_name','dept_name').show()"
   ]
  },
  {
   "cell_type": "markdown",
   "metadata": {},
   "source": [
    "##### 6. A list showing all employees in the Sales and Development departments, including their employee number, last name, first name, and department name"
   ]
  },
  {
   "cell_type": "code",
   "execution_count": 29,
   "metadata": {},
   "outputs": [
    {
     "name": "stdout",
     "output_type": "stream",
     "text": [
      "+--------+------------+----------+---------+\n",
      "|emp_no_s|   last_name|first_name|dept_name|\n",
      "+--------+------------+----------+---------+\n",
      "|   10002|      Simmel|   Bezalel|    Sales|\n",
      "|   10016| Cappelletti|  Kazuhito|    Sales|\n",
      "|   10034|        Swan|     Bader|    Sales|\n",
      "|   10041|      Lenart|       Uri|    Sales|\n",
      "|   10053|    Zschoche|    Sanjiv|    Sales|\n",
      "|   10060| Billingsley|  Breannda|    Sales|\n",
      "|   10061|      Herber|       Tse|    Sales|\n",
      "|   10068|     Brattka|  Charlene|    Sales|\n",
      "|   10087|     Eugenio|   Xinglin|    Sales|\n",
      "|   10088|    Syrzycki|  Jungsoon|    Sales|\n",
      "|   10089|Flasterstein| Sudharsan|    Sales|\n",
      "|   10093|     Desikan|   Sailaja|    Sales|\n",
      "|   10095|      Morton|    Hilari|    Sales|\n",
      "|   10099|     Sullins|    Valter|    Sales|\n",
      "|   10101|      Heyers|     Perla|    Sales|\n",
      "|   10107|        Baca|      Dung|    Sales|\n",
      "|   10125|     Hiltgen|     Syozo|    Sales|\n",
      "|   10136|    Pintelas|    Zissis|    Sales|\n",
      "|   10148|       Azumi|    Douadi|    Sales|\n",
      "|   10149|       Perry|   Xiadong|    Sales|\n",
      "+--------+------------+----------+---------+\n",
      "only showing top 20 rows\n",
      "\n"
     ]
    }
   ],
   "source": [
    "emp_df.where((emp_df.dept_name == 'Sales') | (emp_df.dept_name == 'Development')).select('emp_no_s','last_name','first_name','dept_name').show()"
   ]
  },
  {
   "cell_type": "markdown",
   "metadata": {},
   "source": [
    "##### 7. A list showing the frequency count of employee last names, in descending order. ( i.e., how many employees share each last name"
   ]
  },
  {
   "cell_type": "code",
   "execution_count": 30,
   "metadata": {},
   "outputs": [
    {
     "name": "stdout",
     "output_type": "stream",
     "text": [
      "+---------+-----+\n",
      "|last_name|count|\n",
      "+---------+-----+\n",
      "|  dAstous|  166|\n",
      "|     Zykh|  148|\n",
      "|     Zyda|  181|\n",
      "|  Zwicker|  176|\n",
      "|  Zweizig|  180|\n",
      "|  Zumaque|  195|\n",
      "|  Zultner|  177|\n",
      "|   Zucker|  185|\n",
      "|  Zuberek|  209|\n",
      "| Zschoche|  165|\n",
      "|  Zongker|  192|\n",
      "| Zolotykh|  183|\n",
      "|  Zockler|  173|\n",
      "|    Zobel|  162|\n",
      "|   Zlotek|  182|\n",
      "|    Zizka|  180|\n",
      "|Zirintsis|  188|\n",
      "|Zielinski|  172|\n",
      "|   Zhiwei|  177|\n",
      "|    Zhang|  163|\n",
      "+---------+-----+\n",
      "only showing top 20 rows\n",
      "\n"
     ]
    }
   ],
   "source": [
    "emp_df.sort(emp_df.last_name.desc()).groupBy('last_name').count().show()"
   ]
  },
  {
   "cell_type": "code",
   "execution_count": 31,
   "metadata": {},
   "outputs": [],
   "source": [
    "emp_pd_df = emp_df.select('emp_no_s','sex','no_of_projects','Last_performance_rating','left_','title','de_dept_no',\n",
    "                          'salary','dept_name').toPandas()"
   ]
  },
  {
   "cell_type": "markdown",
   "metadata": {},
   "source": [
    "##### 8. Histogram to show the salary distribution among the employees"
   ]
  },
  {
   "cell_type": "code",
   "execution_count": 32,
   "metadata": {},
   "outputs": [
    {
     "data": {
      "text/plain": [
       "<matplotlib.axes._subplots.AxesSubplot at 0x7f063d44b250>"
      ]
     },
     "execution_count": 32,
     "metadata": {},
     "output_type": "execute_result"
    },
    {
     "data": {
      "image/png": "[encoded data removed]",
      "text/plain": [
       "<Figure size 432x288 with 1 Axes>"
      ]
     },
     "metadata": {
      "needs_background": "light"
     },
     "output_type": "display_data"
    }
   ],
   "source": [
    "emp_pd_df.salary.hist(bins = 10)"
   ]
  },
  {
   "cell_type": "markdown",
   "metadata": {},
   "source": [
    "##### 9. Bar graph to show the Average salary per title (designation)\n"
   ]
  },
  {
   "cell_type": "code",
   "execution_count": 33,
   "metadata": {},
   "outputs": [
    {
     "data": {
      "image/png": "[encoded data removed]",
      "text/plain": [
       "<Figure size 1080x432 with 1 Axes>"
      ]
     },
     "metadata": {
      "needs_background": "light"
     },
     "output_type": "display_data"
    }
   ],
   "source": [
    "data_table = emp_pd_df.pivot_table(index='title',values = 'salary',aggfunc= 'mean').reset_index()\n",
    "plt.figure(figsize=(15,6))\n",
    "sns.barplot(data = data_table,x='title',y='salary')\n",
    "plt.show()"
   ]
  },
  {
   "cell_type": "markdown",
   "metadata": {},
   "source": [
    "##### 10. Calculate employee tenure & show the tenure distribution among the employees"
   ]
  },
  {
   "cell_type": "code",
   "execution_count": 34,
   "metadata": {},
   "outputs": [],
   "source": [
    "emp_df.createTempView(\"emp_tbl\")"
   ]
  },
  {
   "cell_type": "code",
   "execution_count": 35,
   "metadata": {},
   "outputs": [
    {
     "name": "stdout",
     "output_type": "stream",
     "text": [
      "+--------+----------+----------+------+\n",
      "|emp_no_s| hire_date| last_date|Tenure|\n",
      "+--------+----------+----------+------+\n",
      "|   10001|1986-06-26|1994-07-30|     8|\n",
      "|   10006|1989-06-02|      null|    11|\n",
      "|   10008|1994-09-15|      null|     6|\n",
      "|   10012|1992-12-18|      null|     8|\n",
      "|   10014|1987-03-11|      null|    13|\n",
      "|   10021|1988-02-10|      null|    12|\n",
      "|   10022|1995-08-22|2005-11-04|    10|\n",
      "|   10023|1989-12-17|      null|    11|\n",
      "|   10025|1987-08-17|      null|    13|\n",
      "|   10027|1989-07-07|      null|    11|\n",
      "|   10028|1991-10-22|      null|     9|\n",
      "|   10031|1991-09-01|1999-08-03|     8|\n",
      "|   10037|1990-12-05|      null|    10|\n",
      "|   10040|1993-02-14|      null|     7|\n",
      "|   10043|1990-10-20|      null|    10|\n",
      "|   10048|1985-02-24|      null|    15|\n",
      "|   10056|1990-02-01|      null|    10|\n",
      "|   10057|1992-01-15|      null|     8|\n",
      "|   10062|1991-08-30|1993-02-16|     2|\n",
      "|   10065|1988-05-18|      null|    12|\n",
      "+--------+----------+----------+------+\n",
      "only showing top 20 rows\n",
      "\n"
     ]
    }
   ],
   "source": [
    "Sqlcontext.sql(\"\"\"select emp_no_s,hire_date,last_date, case when last_date is null then 2000 - year(hire_date) else  year(last_date)-year(hire_date) end as Tenure from emp_tbl\"\"\").show()"
   ]
  },
  {
   "cell_type": "markdown",
   "metadata": {},
   "source": [
    "#### Own Analysis"
   ]
  },
  {
   "cell_type": "markdown",
   "metadata": {},
   "source": [
    "##### 1. Percentage distribution of employees as per the Designation"
   ]
  },
  {
   "cell_type": "code",
   "execution_count": 36,
   "metadata": {},
   "outputs": [
    {
     "data": {
      "image/png": "[encoded data removed]",
      "text/plain": [
       "<Figure size 864x504 with 1 Axes>"
      ]
     },
     "metadata": {},
     "output_type": "display_data"
    }
   ],
   "source": [
    "emp_pd_df.groupby('title')['emp_no_s'].agg('count').plot(kind='pie',subplots=True,figsize=(12,7),autopct = '%1.4f%%')\n",
    "plt.show()"
   ]
  },
  {
   "cell_type": "markdown",
   "metadata": {},
   "source": [
    "##### Department wise manager count"
   ]
  },
  {
   "cell_type": "markdown",
   "metadata": {},
   "source": [
    "##### 2. Department wise employee count"
   ]
  },
  {
   "cell_type": "code",
   "execution_count": 37,
   "metadata": {},
   "outputs": [
    {
     "data": {
      "image/png": "[encoded data removed]",
      "text/plain": [
       "<Figure size 1080x432 with 1 Axes>"
      ]
     },
     "metadata": {
      "needs_background": "light"
     },
     "output_type": "display_data"
    }
   ],
   "source": [
    "data_table = emp_pd_df.pivot_table(index='dept_name',values = 'emp_no_s',aggfunc= 'count').reset_index()\n",
    "plt.figure(figsize=(15,6))\n",
    "sns.barplot(data = data_table,x='dept_name',y='emp_no_s',palette=\"Blues_d\")\n",
    "plt.show()"
   ]
  },
  {
   "cell_type": "markdown",
   "metadata": {},
   "source": [
    "##### 3. Gender wise employee count for different deepartments"
   ]
  },
  {
   "cell_type": "code",
   "execution_count": 38,
   "metadata": {},
   "outputs": [
    {
     "data": {
      "text/plain": [
       "Text(0, 0.5, 'Employee Count')"
      ]
     },
     "execution_count": 38,
     "metadata": {},
     "output_type": "execute_result"
    },
    {
     "data": {
      "image/png": "[encoded data removed]",
      "text/plain": [
       "<Figure size 1080x432 with 1 Axes>"
      ]
     },
     "metadata": {
      "needs_background": "light"
     },
     "output_type": "display_data"
    }
   ],
   "source": [
    "output1 = emp_pd_df.pivot_table(index='dept_name', columns='sex', values='emp_no_s', aggfunc='count')\n",
    "output1.plot(kind='bar',figsize=(15,6))\n",
    "plt.xlabel(\"Department\")\n",
    "plt.ylabel(\"Employee Count\")"
   ]
  },
  {
   "cell_type": "markdown",
   "metadata": {},
   "source": [
    "##### 4. Max, min, avg of salaries"
   ]
  },
  {
   "cell_type": "code",
   "execution_count": 39,
   "metadata": {
    "scrolled": true
   },
   "outputs": [
    {
     "name": "stdout",
     "output_type": "stream",
     "text": [
      "+----------+----------+------------------+\n",
      "|Max Salary|Min Salary|    Average Salary|\n",
      "+----------+----------+------------------+\n",
      "|    129492|     40000|52970.732451403885|\n",
      "+----------+----------+------------------+\n",
      "\n"
     ]
    }
   ],
   "source": [
    "emp_df.select(max('salary').alias('Max Salary'),min('salary').alias('Min Salary'),mean('salary').alias('Average Salary')).show()"
   ]
  },
  {
   "cell_type": "markdown",
   "metadata": {},
   "source": [
    "##### 5. Department wise Left and working employee"
   ]
  },
  {
   "cell_type": "code",
   "execution_count": 47,
   "metadata": {},
   "outputs": [
    {
     "name": "stdout",
     "output_type": "stream",
     "text": [
      "[0 : Current Employee] [1 : Left Employee]\n"
     ]
    },
    {
     "data": {
      "image/png": "[encoded data removed]",
      "text/plain": [
       "<Figure size 1080x432 with 1 Axes>"
      ]
     },
     "metadata": {
      "needs_background": "light"
     },
     "output_type": "display_data"
    }
   ],
   "source": [
    "print(\"[0 : Current Employee] [1 : Left Employee]\")\n",
    "emp_pd_df.pivot_table(index='dept_name',columns='left_',values = 'emp_no_s',aggfunc= 'count').plot(kind='bar',figsize=(15,6),stacked=True)\n",
    "plt.ylabel('EMPLOYEE COUNT')\n",
    "plt.xlabel('DEPARTMENT NAME')\n",
    "plt.show()"
   ]
  },
  {
   "cell_type": "markdown",
   "metadata": {},
   "source": [
    "##### Analyse working vs left employes from different designations"
   ]
  },
  {
   "cell_type": "code",
   "execution_count": 41,
   "metadata": {},
   "outputs": [
    {
     "data": {
      "image/png": "[encoded data removed]",
      "text/plain": [
       "<Figure size 1080x432 with 1 Axes>"
      ]
     },
     "metadata": {
      "needs_background": "light"
     },
     "output_type": "display_data"
    }
   ],
   "source": [
    "emp_pd_df.pivot_table(index='title',columns='left_',values = 'emp_no_s',aggfunc= 'count').plot(kind='bar',figsize=(15,6))\n",
    "plt.ylabel('EMPLOYEE COUNT')\n",
    "plt.xlabel('DESIGNATION')\n",
    "plt.show()"
   ]
  },
  {
   "cell_type": "markdown",
   "metadata": {},
   "source": [
    "##### Average salary designation wise"
   ]
  },
  {
   "cell_type": "code",
   "execution_count": 42,
   "metadata": {},
   "outputs": [
    {
     "data": {
      "text/plain": [
       "<matplotlib.axes._subplots.AxesSubplot at 0x7f0636c40210>"
      ]
     },
     "execution_count": 42,
     "metadata": {},
     "output_type": "execute_result"
    },
    {
     "data": {
      "image/png": "[encoded data removed]",
      "text/plain": [
       "<Figure size 1080x432 with 1 Axes>"
      ]
     },
     "metadata": {
      "needs_background": "light"
     },
     "output_type": "display_data"
    }
   ],
   "source": [
    "emp_pd_df.pivot_table(index ='title',values ='salary',aggfunc = 'mean').plot(kind='bar',figsize=(15,6))"
   ]
  },
  {
   "cell_type": "markdown",
   "metadata": {},
   "source": [
    "##### Department wise number of projects"
   ]
  },
  {
   "cell_type": "code",
   "execution_count": 43,
   "metadata": {},
   "outputs": [
    {
     "data": {
      "image/png": "[encoded data removed]",
      "text/plain": [
       "<Figure size 1080x432 with 1 Axes>"
      ]
     },
     "metadata": {
      "needs_background": "light"
     },
     "output_type": "display_data"
    }
   ],
   "source": [
    "emp_pd_df.pivot_table(index='dept_name',values = 'no_of_projects',aggfunc= 'sum').plot(kind='bar',figsize=(15,6))\n",
    "plt.show()"
   ]
  },
  {
   "cell_type": "markdown",
   "metadata": {},
   "source": [
    "### ML"
   ]
  },
  {
   "cell_type": "markdown",
   "metadata": {},
   "source": [
    "### Feature Engineering"
   ]
  },
  {
   "cell_type": "code",
   "execution_count": null,
   "metadata": {},
   "outputs": [],
   "source": [
    "#SELECT FEW COLUMNS FOR MY MODEL\n",
    "emp_df_final = emp_df.select('de_dept_no','sex','salary','no_of_projects','left_','birth_date')"
   ]
  },
  {
   "cell_type": "code",
   "execution_count": null,
   "metadata": {},
   "outputs": [],
   "source": [
    "# Create a new column called \"age\" to calculate the age of employees\n",
    "emp_df_final = emp_df_final.withColumn('age',2000-year('birth_date'))"
   ]
  },
  {
   "cell_type": "code",
   "execution_count": null,
   "metadata": {},
   "outputs": [],
   "source": [
    "emp_df_final = emp_df_final.drop(\"birth_date\")"
   ]
  },
  {
   "cell_type": "code",
   "execution_count": null,
   "metadata": {},
   "outputs": [],
   "source": [
    "from pyspark.ml.feature import OneHotEncoder, StringIndexer, VectorAssembler, PolynomialExpansion, VectorIndexer,OneHotEncoderEstimator"
   ]
  },
  {
   "cell_type": "code",
   "execution_count": null,
   "metadata": {},
   "outputs": [],
   "source": [
    "#Columns that will be used as features and their types\n",
    "continuous_features = ['salary', 'no_of_projects','age']\n",
    "\n",
    "categorical_features = ['de_dept_no', 'sex']"
   ]
  },
  {
   "cell_type": "code",
   "execution_count": null,
   "metadata": {},
   "outputs": [],
   "source": [
    "# create object of StringIndexer class and specify input and output column\n",
    "SI_de_dept = StringIndexer(inputCol='de_dept_no',outputCol='de_dept_Index')\n",
    "SI_sex = StringIndexer(inputCol='sex',outputCol='sex_Index')\n",
    "\n",
    "\n",
    "# transform the data\n",
    "emp_df_final = SI_de_dept.fit(emp_df_final).transform(emp_df_final)\n",
    "emp_df_final = SI_sex.fit(emp_df_final).transform(emp_df_final)\n",
    "\n",
    "# view and transform the data\n",
    "emp_df_final.show(2)"
   ]
  },
  {
   "cell_type": "code",
   "execution_count": null,
   "metadata": {},
   "outputs": [],
   "source": []
  },
  {
   "cell_type": "code",
   "execution_count": null,
   "metadata": {},
   "outputs": [],
   "source": [
    "# create object and specify input and output column\n",
    "OHE = OneHotEncoderEstimator(inputCols=['de_dept_Index', 'sex_Index'],outputCols=['de_dept_Ohe', 'sex_Ohe'])\n",
    "# transform the data\n",
    "emp_df_final = OHE.fit(emp_df_final).transform(emp_df_final)\n",
    "\n",
    "# view and transform the data\n",
    "emp_df_final.show(2)"
   ]
  },
  {
   "cell_type": "markdown",
   "metadata": {},
   "source": [
    "### `Preparing for model building\n",
    "- The dataframe need to have two columns: features and label\n",
    "- The vector columns need to named as features\n",
    "- The target variable need to be named as label\n",
    "- Then the dataframe can be directly fed to a model to learn"
   ]
  },
  {
   "cell_type": "code",
   "execution_count": null,
   "metadata": {},
   "outputs": [],
   "source": [
    "featurecols = continuous_features + ['de_dept_Ohe', 'sex_Ohe']"
   ]
  },
  {
   "cell_type": "code",
   "execution_count": null,
   "metadata": {},
   "outputs": [],
   "source": [
    "# Feature Column\n",
    "assembler = VectorAssembler(inputCols=featurecols,outputCol=\"features\")\n",
    "\n",
    "emp_df_final = assembler.transform(emp_df_final)"
   ]
  },
  {
   "cell_type": "code",
   "execution_count": null,
   "metadata": {},
   "outputs": [],
   "source": [
    "#Label Column\n",
    "\n",
    "emp_df_final = emp_df_final.withColumnRenamed(\"left_\",'label')\n",
    "emp_df_final = emp_df_final.withColumn(\"label\",emp_df_final.label.cast('int'))"
   ]
  },
  {
   "cell_type": "code",
   "execution_count": null,
   "metadata": {},
   "outputs": [],
   "source": [
    "# Train and Test data\n",
    "train_df,test_df = emp_df_final.randomSplit( [0.7, 0.3], seed = 42 )"
   ]
  },
  {
   "cell_type": "code",
   "execution_count": null,
   "metadata": {},
   "outputs": [],
   "source": [
    "#Build the Linear Regression Model\n",
    "from pyspark.ml.classification import LogisticRegression "
   ]
  },
  {
   "cell_type": "code",
   "execution_count": null,
   "metadata": {},
   "outputs": [],
   "source": [
    "logrg = LogisticRegression(featuresCol= 'features',labelCol='label',maxIter=5)"
   ]
  },
  {
   "cell_type": "code",
   "execution_count": null,
   "metadata": {},
   "outputs": [],
   "source": [
    "lr = logrg.fit(train_df)"
   ]
  },
  {
   "cell_type": "code",
   "execution_count": null,
   "metadata": {},
   "outputs": [],
   "source": [
    "lr.intercept"
   ]
  },
  {
   "cell_type": "code",
   "execution_count": null,
   "metadata": {},
   "outputs": [],
   "source": [
    "lr.coefficients"
   ]
  },
  {
   "cell_type": "code",
   "execution_count": null,
   "metadata": {},
   "outputs": [],
   "source": [
    "y_pred_test = lr.transform(test_df)"
   ]
  },
  {
   "cell_type": "code",
   "execution_count": null,
   "metadata": {},
   "outputs": [],
   "source": [
    "y_pred_train = lr.transform(train_df)"
   ]
  },
  {
   "cell_type": "code",
   "execution_count": null,
   "metadata": {},
   "outputs": [],
   "source": [
    "y_pred_train.select('features','label','rawPrediction','probability','prediction').toPandas().head()"
   ]
  },
  {
   "cell_type": "code",
   "execution_count": null,
   "metadata": {},
   "outputs": [],
   "source": [
    "from pyspark.ml.evaluation import BinaryClassificationEvaluator"
   ]
  },
  {
   "cell_type": "code",
   "execution_count": null,
   "metadata": {},
   "outputs": [],
   "source": [
    "evaluator = BinaryClassificationEvaluator()"
   ]
  },
  {
   "cell_type": "code",
   "execution_count": null,
   "metadata": {},
   "outputs": [],
   "source": [
    "evaluator.evaluate(y_pred_test)"
   ]
  },
  {
   "cell_type": "markdown",
   "metadata": {},
   "source": [
    "### Accuracy"
   ]
  },
  {
   "cell_type": "code",
   "execution_count": null,
   "metadata": {},
   "outputs": [],
   "source": [
    "y_pred_test.filter(y_pred_test.label == y_pred_test.prediction).count() / float(y_pred_test.count())"
   ]
  },
  {
   "cell_type": "markdown",
   "metadata": {},
   "source": [
    "### PipeLine"
   ]
  },
  {
   "cell_type": "code",
   "execution_count": null,
   "metadata": {},
   "outputs": [],
   "source": [
    "#Columns that will be used as features and their types\n",
    "continuous_features = ['salary', 'no_of_projects','age']\n",
    "\n",
    "categorical_features = ['de_dept_no', 'sex']"
   ]
  },
  {
   "cell_type": "code",
   "execution_count": null,
   "metadata": {},
   "outputs": [],
   "source": [
    "from pyspark.ml.feature import StringIndexer, OneHotEncoder, VectorAssembler,OneHotEncoderEstimator\n",
    "from pyspark.ml import Pipeline\n",
    "from pyspark.ml.classification import LogisticRegression\n",
    "\n",
    "## Create indexers for the categorical features\n",
    "indexers = [StringIndexer(inputCol=c, outputCol=\"{}_idx\".format(c)) for c in categorical_features]\n",
    "\n",
    "## encode the categorical features\n",
    "encoders = [ OneHotEncoderEstimator(\n",
    "      inputCols=idx.getOutputCol(),\n",
    "      outputCols=\"{0}_enc\".format(idx.getOutputCol())) for idx in indexers]\n",
    "\n",
    "## Create vectors for all features categorical and continuous\n",
    "\n",
    "assembler = VectorAssembler(\n",
    "  inputCols=[enc.getOutputCol() for enc in encoders] + continuous_features,\n",
    "  outputCol=\"features\")\n",
    "\n",
    "## Initialize the linear model\n",
    "lrModel = LinearRegression( maxIter = 10 )\n",
    "\n",
    "\n",
    "## Create the pipeline with sequence of activities\n",
    "#pipeline = Pipeline( stages=indexers + encoders + [assembler, lrModel ])\n",
    "\n",
    "pipeline = Pipeline( stages= [indexers, encoders, assembler, lrModel ])"
   ]
  },
  {
   "cell_type": "code",
   "execution_count": null,
   "metadata": {},
   "outputs": [],
   "source": [
    "#Label Column\n",
    "emp_df_final = emp_df_final.withColumnRenamed(\"left_\",'label')\n",
    "emp_df_final = emp_df_final.withColumn(\"label\",emp_df_final.label.cast('int'))"
   ]
  },
  {
   "cell_type": "code",
   "execution_count": null,
   "metadata": {},
   "outputs": [],
   "source": [
    "training, testing = housing_pipeline_df.randomSplit( [0.7, 0.3], seed = 42 )"
   ]
  },
  {
   "cell_type": "code",
   "execution_count": null,
   "metadata": {},
   "outputs": [],
   "source": [
    "model = pipeline.fit( training )"
   ]
  },
  {
   "cell_type": "code",
   "execution_count": null,
   "metadata": {},
   "outputs": [],
   "source": [
    "y_pred_train = model.transform(training)"
   ]
  }
 ],
 "metadata": {
  "kernelspec": {
   "display_name": "Python 3",
   "language": "python",
   "name": "python3"
  }
 },
 "nbformat": 4,
 "nbformat_minor": 4
}
